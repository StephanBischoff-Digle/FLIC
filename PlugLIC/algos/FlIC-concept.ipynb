{
 "cells": [
  {
   "cell_type": "code",
   "execution_count": null,
   "metadata": {},
   "outputs": [],
   "source": [
    "streamline = []\n",
    "hits= []\n",
    "for p in pixelarray: \n",
    "    numHits = 0\n",
    "    for streamline in streamlinestore: \n",
    "        if streamline.contains(p): \n",
    "            numHits += 1\n",
    "    hits[p]= numHits\n",
    "    if numHits < minHits: \n",
    "        ps = rungekutta(p)\n",
    "        p[1] = convolution(ps)\n",
    "        m = 1\n",
    "        for m+1 in range(M):\n",
    "            pm = ps[p-m]\n",
    "            pm2 = ps[p+m]\n",
    "            pm[1] = convolution(pm)\n",
    "            pm2[1] = convolution(pm2)\n",
    "\n",
    "for p in pixelarray: \n",
    "    p[1]/hits[p]\n",
    "\n",
    "\n"
   ]
  }
 ],
 "metadata": {
  "kernelspec": {
   "display_name": "Python 3",
   "language": "python",
   "name": "python3"
  },
  "language_info": {
   "name": "python",
   "version": "3.11.1 (tags/v3.11.1:a7a450f, Dec  6 2022, 19:58:39) [MSC v.1934 64 bit (AMD64)]"
  },
  "orig_nbformat": 4,
  "vscode": {
   "interpreter": {
    "hash": "00dabe568e71c50c12ce94c665285314ef3480b0f1eac88c70e7a8a1b0824ab3"
   }
  }
 },
 "nbformat": 4,
 "nbformat_minor": 2
}
